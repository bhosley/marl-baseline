{
 "cells": [
  {
   "cell_type": "markdown",
   "metadata": {},
   "source": []
  },
  {
   "cell_type": "code",
   "execution_count": null,
   "metadata": {
    "vscode": {
     "languageId": "shellscript"
    }
   },
   "outputs": [],
   "source": [
    "python test.py --wandb-project=mini-test-waterworld --wandb-key=913528a8e92bf601b6eb055a459bcc89130c7f5f \\\n",
    "--num-samples=10 --num-env-runners=30 --checkpoint-at-end --num-agents=8"
   ]
  },
  {
   "cell_type": "markdown",
   "metadata": {},
   "source": [
    "## Initial Training Values and Checkpoint Paths\n",
    "\n"
   ]
  },
  {
   "cell_type": "code",
   "execution_count": 24,
   "metadata": {},
   "outputs": [
    {
     "data": {
      "text/plain": [
       "['/root/ray_results/PPO_2024-09-07_20-40-23/tuner.pkl',\n",
       " '/root/ray_results/PPO_2024-09-07_20-40-23/PPO_8_agent_waterworld_67d04_00009_9_2024-09-07_20-40-23',\n",
       " '/root/ray_results/PPO_2024-09-07_20-40-23/PPO_8_agent_waterworld_67d04_00006_6_2024-09-07_20-40-23',\n",
       " '/root/ray_results/PPO_2024-09-07_20-40-23/PPO_8_agent_waterworld_67d04_00007_7_2024-09-07_20-40-23',\n",
       " '/root/ray_results/PPO_2024-09-07_20-40-23/PPO_8_agent_waterworld_67d04_00008_8_2024-09-07_20-40-23',\n",
       " '/root/ray_results/PPO_2024-09-07_20-40-23/PPO_8_agent_waterworld_67d04_00000_0_2024-09-07_20-40-23',\n",
       " '/root/ray_results/PPO_2024-09-07_20-40-23/PPO_8_agent_waterworld_67d04_00001_1_2024-09-07_20-40-23',\n",
       " '/root/ray_results/PPO_2024-09-07_20-40-23/PPO_8_agent_waterworld_67d04_00002_2_2024-09-07_20-40-23',\n",
       " '/root/ray_results/PPO_2024-09-07_20-40-23/PPO_8_agent_waterworld_67d04_00004_4_2024-09-07_20-40-23',\n",
       " '/root/ray_results/PPO_2024-09-07_20-40-23/PPO_8_agent_waterworld_67d04_00003_3_2024-09-07_20-40-23',\n",
       " '/root/ray_results/PPO_2024-09-07_20-40-23/PPO_8_agent_waterworld_67d04_00005_5_2024-09-07_20-40-23',\n",
       " '/root/ray_results/PPO_2024-09-07_20-40-23/experiment_state-2024-09-07_20-40-23.json',\n",
       " '/root/ray_results/PPO_2024-09-07_20-40-23/basic-variant-state-2024-09-07_20-40-23.json']"
      ]
     },
     "execution_count": 24,
     "metadata": {},
     "output_type": "execute_result"
    }
   ],
   "source": [
    "from os import path\n",
    "from glob import glob\n",
    "\n",
    "default_loc = '/root/ray_results/'\n",
    "#recent = sorted(glob(default_loc+'/*'), key=path.getctime)[-9]\n",
    "recent = sorted(glob(default_loc+'/*'), key=path.getctime)[-1]\n",
    "sorted(glob(recent + '/*'), key=path.getctime)\n",
    "#glob(recent + \"/**/*checkpoint*\", recursive=True)\n"
   ]
  },
  {
   "cell_type": "code",
   "execution_count": null,
   "metadata": {},
   "outputs": [],
   "source": []
  },
  {
   "cell_type": "markdown",
   "metadata": {},
   "source": [
    "### 2 Agent\n",
    "/root/ray_results/PPO_2024-09-09_13-44-18\n",
    "+------------------------------------+------------+----------------------+--------+------------------+--------+-------------------+\n",
    "| Trial name                         | status     | loc                  |   iter |   total time (s) |     ts |   combined return |\n",
    "|------------------------------------+------------+----------------------+--------+------------------+--------+-------------------|\n",
    "| PPO_2_agent_waterworld_9c7f4_00008 | RUNNING    | 10.42.142.216:633178 |    199 |          3502.89 | 796000 |           49.9773 |\n",
    "| PPO_2_agent_waterworld_9c7f4_00000 | TERMINATED | 10.42.142.216:438557 |    200 |          4007.01 | 800000 |          115.962  |\n",
    "| PPO_2_agent_waterworld_9c7f4_00001 | TERMINATED | 10.42.142.216:438563 |    200 |          3952.46 | 800000 |          118.33   |\n",
    "| PPO_2_agent_waterworld_9c7f4_00002 | TERMINATED | 10.42.142.216:489358 |    200 |          3521.91 | 800000 |          116.068  |\n",
    "| PPO_2_agent_waterworld_9c7f4_00003 | TERMINATED | 10.42.142.216:494279 |    200 |          3528.49 | 800000 |           96.4775 |\n",
    "| PPO_2_agent_waterworld_9c7f4_00004 | TERMINATED | 10.42.142.216:542501 |    200 |          3456.96 | 800000 |          174.472  |\n",
    "| PPO_2_agent_waterworld_9c7f4_00005 | TERMINATED | 10.42.142.216:547442 |    200 |          3467.7  | 800000 |           73.7061 |\n",
    "| PPO_2_agent_waterworld_9c7f4_00006 | TERMINATED | 10.42.142.216:602766 |    200 |          3491.85 | 800000 |           33.7597 |\n",
    "| PPO_2_agent_waterworld_9c7f4_00007 | TERMINATED | 10.42.142.216:607513 |    200 |          3468.76 | 800000 |           96.6717 |\n",
    "| PPO_2_agent_waterworld_9c7f4_00009 | TERMINATED | 10.42.142.216:637770 |    200 |          3458.73 | 800000 |          102.041  |\n",
    "+------------------------------------+------------+----------------------+--------+------------------+--------+-------------------+\n",
    "\n",
    "Super:\n",
    "\"/root/ray_results/PPO_2024-09-09_13-44-18/PPO_2_agent_waterworld_9c7f4_00004_4_2024-09-09_13-44-18/checkpoint_000000/\"\n",
    "\n",
    "\n",
    "### 3 Agent\n",
    "/root/ray_results/PPO_2024-09-09_20-23-57/\n",
    "\n",
    "9   |   74.56119\n",
    "8   |   160.66247\n",
    "7   |   201.19722\n",
    "6   |   90.98927\n",
    "5   |   189.49134\n",
    "4   |   157.00357\n",
    "3   |   231.54328\n",
    "2   |   201.20203\n",
    "0   |   202.27329\n",
    "1   |   108.89538\n",
    "\n",
    "Super:\n",
    "\"/root/ray_results/PPO_2024-09-09_20-23-57/PPO_3_agent_waterworld_71484_00003_3_2024-09-09_20-23-58/checkpoint_000000/\"\n",
    "\n",
    "### 4 Agent\n",
    "/root/ray_results/PPO_2024-09-11_17-54-15/\n",
    "\n",
    "   |   37.44383\n",
    "   |   175.94865\n",
    "   |   -325.19353\n",
    "   |   -247.76055\n",
    "   |   179.10133\n",
    "   |   164.73824\n",
    "   |   151.29206\n",
    "2   |   211.24043\n",
    "   |   162.63252\n",
    "   |   115.18528\n",
    "\n",
    "Super:\n",
    "\"/root/ray_results/PPO_2024-09-11_17-54-15/PPO_4_agent_waterworld_dc426_00002_2_2024-09-11_17-54-15/checkpoint_000000/\"\n",
    "\n",
    "### 5 Agent\n",
    "/root/ray_results/PPO_2024-09-15_15-14-26/\n",
    "\n",
    "\n",
    "Super:\n",
    "\"checkpoint_000000/\"\n",
    "\n",
    "### 6 Agent\n",
    "/root/ray_results/PPO_2024-09-11_17-53-50/ (Interrupted)\n",
    "/root/ray_results/PPO_2024-09-15_07-17-42/\n",
    "\n",
    "-366.50917\n",
    "-476.41343\n",
    "-338.22253\n",
    "-51.40623\n",
    "-507.30046\n",
    "121.91955\n",
    "155.72043\n",
    "145.22141\n",
    "207.9032\n",
    "\n",
    "Super:\n",
    "\"/root/ray_results/PPO_2024-09-11_17-53-50/PPO_6_agent_waterworld_cd64a_00001_1_2024-09-11_17-53-50/checkpoint_000000/\"\n",
    "\n",
    "### 7 Agent\n",
    "/root/ray_results/PPO_2024-09-09_17-08-56\n",
    "\n",
    "9   |   72.82384\n",
    "8   |   63.39039\n",
    "7   |   88.09865\n",
    "6   |   109.53974\n",
    "5   |   28.09716\n",
    "4   |   81.51447\n",
    "3   |   97.09493\n",
    "2   |   44.62085\n",
    "1   |   139.38001\n",
    "0   |   77.54385\n",
    "\n",
    "Super:\n",
    "\"/root/ray_results/PPO_2024-09-09_17-08-56/PPO_7_agent_waterworld_32d6a_00001_1_2024-09-09_17-08-56/checkpoint_000000/\"\n",
    "\n",
    "### 8 Agent\n",
    "/root/ray_results/PPO_2024-09-07_20-40-23\n",
    "\n",
    "9   | 50.31665\n",
    "8   | 41.28843\n",
    "7   | 93.01423\n",
    "6   | 65.59638\n",
    "5   | 151.39714\n",
    "4   | 70.55166\n",
    "3   | 66.52276\n",
    "2   | 35.59647\n",
    "1   | 142.84205\n",
    "0   | -4.33897\n",
    "\n",
    "Super:\n",
    "\"/root/ray_results/PPO_2024-09-07_20-40-23/PPO_8_agent_waterworld_67d04_00005_5_2024-09-07_20-40-23/checkpoint_000000/\""
   ]
  },
  {
   "cell_type": "code",
   "execution_count": null,
   "metadata": {
    "vscode": {
     "languageId": "shellscript"
    }
   },
   "outputs": [],
   "source": [
    "python test.py --mode=\"eval\" --wandb-key=913528a8e92bf601b6eb055a459bcc89130c7f5f \\\n",
    "--path=\"/root/ray_results/PPO_2024-09-09_13-44-18/PPO_2_agent_waterworld_9c7f4_00004_4_2024-09-09_13-44-18/checkpoint_000000/\" \\\n"
   ]
  },
  {
   "cell_type": "code",
   "execution_count": null,
   "metadata": {},
   "outputs": [],
   "source": []
  }
 ],
 "metadata": {
  "kernelspec": {
   "display_name": "base",
   "language": "python",
   "name": "python3"
  },
  "language_info": {
   "codemirror_mode": {
    "name": "ipython",
    "version": 3
   },
   "file_extension": ".py",
   "mimetype": "text/x-python",
   "name": "python",
   "nbconvert_exporter": "python",
   "pygments_lexer": "ipython3",
   "version": "3.11.5"
  }
 },
 "nbformat": 4,
 "nbformat_minor": 2
}
