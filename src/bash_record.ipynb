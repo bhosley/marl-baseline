{
 "cells": [
  {
   "cell_type": "markdown",
   "metadata": {},
   "source": []
  },
  {
   "cell_type": "code",
   "execution_count": null,
   "metadata": {
    "vscode": {
     "languageId": "shellscript"
    }
   },
   "outputs": [],
   "source": [
    "python test.py --wandb-project=mini-test-waterworld --wandb-key=913528a8e92bf601b6eb055a459bcc89130c7f5f \\\n",
    "--num-samples=10 --num-env-runners=30 --checkpoint-at-end --num-agents=8"
   ]
  },
  {
   "cell_type": "markdown",
   "metadata": {},
   "source": [
    "## Initial Training Values and Checkpoint Paths\n",
    "\n"
   ]
  },
  {
   "cell_type": "code",
   "execution_count": 24,
   "metadata": {},
   "outputs": [
    {
     "data": {
      "text/plain": [
       "['/root/ray_results/PPO_2024-09-07_20-40-23/tuner.pkl',\n",
       " '/root/ray_results/PPO_2024-09-07_20-40-23/PPO_8_agent_waterworld_67d04_00009_9_2024-09-07_20-40-23',\n",
       " '/root/ray_results/PPO_2024-09-07_20-40-23/PPO_8_agent_waterworld_67d04_00006_6_2024-09-07_20-40-23',\n",
       " '/root/ray_results/PPO_2024-09-07_20-40-23/PPO_8_agent_waterworld_67d04_00007_7_2024-09-07_20-40-23',\n",
       " '/root/ray_results/PPO_2024-09-07_20-40-23/PPO_8_agent_waterworld_67d04_00008_8_2024-09-07_20-40-23',\n",
       " '/root/ray_results/PPO_2024-09-07_20-40-23/PPO_8_agent_waterworld_67d04_00000_0_2024-09-07_20-40-23',\n",
       " '/root/ray_results/PPO_2024-09-07_20-40-23/PPO_8_agent_waterworld_67d04_00001_1_2024-09-07_20-40-23',\n",
       " '/root/ray_results/PPO_2024-09-07_20-40-23/PPO_8_agent_waterworld_67d04_00002_2_2024-09-07_20-40-23',\n",
       " '/root/ray_results/PPO_2024-09-07_20-40-23/PPO_8_agent_waterworld_67d04_00004_4_2024-09-07_20-40-23',\n",
       " '/root/ray_results/PPO_2024-09-07_20-40-23/PPO_8_agent_waterworld_67d04_00003_3_2024-09-07_20-40-23',\n",
       " '/root/ray_results/PPO_2024-09-07_20-40-23/PPO_8_agent_waterworld_67d04_00005_5_2024-09-07_20-40-23',\n",
       " '/root/ray_results/PPO_2024-09-07_20-40-23/experiment_state-2024-09-07_20-40-23.json',\n",
       " '/root/ray_results/PPO_2024-09-07_20-40-23/basic-variant-state-2024-09-07_20-40-23.json']"
      ]
     },
     "execution_count": 24,
     "metadata": {},
     "output_type": "execute_result"
    }
   ],
   "source": [
    "from os import path\n",
    "from glob import glob\n",
    "\n",
    "default_loc = '/root/ray_results/'\n",
    "#recent = sorted(glob(default_loc+'/*'), key=path.getctime)[-9]\n",
    "recent = sorted(glob(default_loc+'/*'), key=path.getctime)[-1]\n",
    "sorted(glob(recent + '/*'), key=path.getctime)\n",
    "#glob(recent + \"/**/*checkpoint*\", recursive=True)\n"
   ]
  },
  {
   "cell_type": "code",
   "execution_count": null,
   "metadata": {},
   "outputs": [],
   "source": [
    "python test.py --mode=\"eval\" --wandb-key=913528a8e92bf601b6eb055a459bcc89130c7f5f --num-samples=10 \\\n",
    "path=\"\""
   ]
  },
  {
   "cell_type": "markdown",
   "metadata": {},
   "source": [
    "### 2 Agent\n",
    "/root/ray_results/PPO_2024-09-09_13-44-18\n",
    "+------------------------------------+------------+----------------------+--------+------------------+--------+-------------------+\n",
    "| Trial name                         | status     | loc                  |   iter |   total time (s) |     ts |   combined return |\n",
    "|------------------------------------+------------+----------------------+--------+------------------+--------+-------------------|\n",
    "| PPO_2_agent_waterworld_9c7f4_00008 | RUNNING    | 10.42.142.216:633178 |    199 |          3502.89 | 796000 |           49.9773 |\n",
    "| PPO_2_agent_waterworld_9c7f4_00000 | TERMINATED | 10.42.142.216:438557 |    200 |          4007.01 | 800000 |          115.962  |\n",
    "| PPO_2_agent_waterworld_9c7f4_00001 | TERMINATED | 10.42.142.216:438563 |    200 |          3952.46 | 800000 |          118.33   |\n",
    "| PPO_2_agent_waterworld_9c7f4_00002 | TERMINATED | 10.42.142.216:489358 |    200 |          3521.91 | 800000 |          116.068  |\n",
    "| PPO_2_agent_waterworld_9c7f4_00003 | TERMINATED | 10.42.142.216:494279 |    200 |          3528.49 | 800000 |           96.4775 |\n",
    "| PPO_2_agent_waterworld_9c7f4_00004 | TERMINATED | 10.42.142.216:542501 |    200 |          3456.96 | 800000 |          174.472  |\n",
    "| PPO_2_agent_waterworld_9c7f4_00005 | TERMINATED | 10.42.142.216:547442 |    200 |          3467.7  | 800000 |           73.7061 |\n",
    "| PPO_2_agent_waterworld_9c7f4_00006 | TERMINATED | 10.42.142.216:602766 |    200 |          3491.85 | 800000 |           33.7597 |\n",
    "| PPO_2_agent_waterworld_9c7f4_00007 | TERMINATED | 10.42.142.216:607513 |    200 |          3468.76 | 800000 |           96.6717 |\n",
    "| PPO_2_agent_waterworld_9c7f4_00009 | TERMINATED | 10.42.142.216:637770 |    200 |          3458.73 | 800000 |          102.041  |\n",
    "+------------------------------------+------------+----------------------+--------+------------------+--------+-------------------+\n",
    "\n",
    "Super:\n",
    "\"/root/ray_results/PPO_2024-09-09_13-44-18/PPO_2_agent_waterworld_9c7f4_00004_4_2024-09-09_13-44-18/checkpoint_000000/\"\n",
    "\n",
    "\n",
    "### 3 Agent\n",
    "/root/ray_results/PPO_2024-09-09_20-23-57/\n",
    "\n",
    "9   |   74.56119\n",
    "8   |   160.66247\n",
    "7   |   201.19722\n",
    "6   |   90.98927\n",
    "5   |   189.49134\n",
    "4   |   157.00357\n",
    "3   |   231.54328\n",
    "2   |   201.20203\n",
    "0   |   202.27329\n",
    "1   |   108.89538\n",
    "\n",
    "Super:\n",
    "\"/root/ray_results/PPO_2024-09-09_20-23-57/PPO_3_agent_waterworld_71484_00003_3_2024-09-09_20-23-58/checkpoint_000000/\"\n",
    "\n",
    "### 4 Agent\n",
    "\n",
    "+------------------------------------+------------+-----------------------+--------+------------------+--------+-------------------+\n",
    "| Trial name                         | status     | loc                   |   iter |   total time (s) |     ts |   combined return |\n",
    "|------------------------------------+------------+-----------------------+--------+------------------+--------+-------------------|\n",
    "| PPO_4_agent_waterworld_cb3cd_00000 | TERMINATED | 10.42.142.216:1258483 |    200 |          7431.94 | 800000 |          115.484  |\n",
    "| PPO_4_agent_waterworld_cb3cd_00001 | TERMINATED | 10.42.142.216:1258485 |    200 |          7560.98 | 800000 |           84.2536 |\n",
    "| PPO_4_agent_waterworld_cb3cd_00002 | TERMINATED | 10.42.142.216:1647810 |    200 |          6829.64 | 800000 |          180.283  |\n",
    "| PPO_4_agent_waterworld_cb3cd_00003 | TERMINATED | 10.42.142.216:1658776 |    200 |          6701.19 | 800000 |          102.754  |\n",
    "| PPO_4_agent_waterworld_cb3cd_00004 | TERMINATED | 10.42.142.216:2021728 |    200 |          6796.54 | 800000 |          187.944  |\n",
    "| PPO_4_agent_waterworld_cb3cd_00005 | TERMINATED | 10.42.142.216:2026550 |    200 |          6893.58 | 800000 |          103.19   |\n",
    "| PPO_4_agent_waterworld_cb3cd_00006 | TERMINATED | 10.42.142.216:2386615 |    200 |          6889.7  | 800000 |          160.444  |\n",
    "| PPO_4_agent_waterworld_cb3cd_00007 | TERMINATED | 10.42.142.216:2398006 |    200 |          6783.54 | 800000 |          174.169  |\n",
    "| PPO_4_agent_waterworld_cb3cd_00008 | TERMINATED | 10.42.142.216:2764040 |    200 |          6789.14 | 800000 |          144.656  |\n",
    "| PPO_4_agent_waterworld_cb3cd_00009 | TERMINATED | 10.42.142.216:2764328 |    200 |          6838.66 | 800000 |          136.422  |\n",
    "+------------------------------------+------------+-----------------------+--------+------------------+--------+-------------------+\n",
    "\n",
    "\n",
    "Super:\n",
    "\"/root/ray_results/PPO_2024-09-23_14-26-16/PPO_4_agent_waterworld_cb3cd_00002_2_2024-09-23_14-26-16/checkpoint_000000/\"\n",
    "\n",
    "\n",
    "### 5 Agent\n",
    "/root/ray_results/PPO_2024-09-15_15-14-26/\n",
    "\n",
    "+------------------------------------+------------+-----------------------+--------+------------------+--------+-------------------+\n",
    "| Trial name                         | status     | loc                   |   iter |   total time (s) |     ts |   combined return |\n",
    "|------------------------------------+------------+-----------------------+--------+------------------+--------+-------------------|\n",
    "| PPO_5_agent_waterworld_3240e_00000 | TERMINATED | 10.42.142.216:1794821 |    200 |          8517.37 | 800000 |          142.166  |\n",
    "| PPO_5_agent_waterworld_3240e_00001 | TERMINATED | 10.42.142.216:1794823 |    200 |          9589.6  | 800000 |           91.567  |\n",
    "| PPO_5_agent_waterworld_3240e_00002 | TERMINATED | 10.42.142.216:2269528 |    200 |          9750.67 | 800000 |          244.955  |\n",
    "| PPO_5_agent_waterworld_3240e_00003 | TERMINATED | 10.42.142.216:2332659 |    200 |          9782.82 | 800000 |          165.672  |\n",
    "| PPO_5_agent_waterworld_3240e_00004 | TERMINATED | 10.42.142.216:2794740 |    200 |          9727.82 | 800000 |          146.598  |\n",
    "| PPO_5_agent_waterworld_3240e_00005 | TERMINATED | 10.42.142.216:2859059 |    200 |          9950.87 | 800000 |          113.485  |\n",
    "| PPO_5_agent_waterworld_3240e_00006 | TERMINATED | 10.42.142.216:3403886 |    200 |          9753.01 | 800000 |          104.696  |\n",
    "| PPO_5_agent_waterworld_3240e_00007 | TERMINATED | 10.42.142.216:3517813 |    200 |          8545.67 | 800000 |           85.3202 |\n",
    "| PPO_5_agent_waterworld_3240e_00008 | TERMINATED | 10.42.142.216:4135660 |    200 |          9864.13 | 800000 |          221.371  |\n",
    "| PPO_5_agent_waterworld_3240e_00009 | TERMINATED | 10.42.142.216:4152267 |    200 |          9985.51 | 800000 |          137.84   |\n",
    "+------------------------------------+------------+-----------------------+--------+------------------+--------+-------------------+\n",
    "\n",
    "Super:\n",
    "\"/root/ray_results/PPO_2024-09-15_15-14-26/PPO_5_agent_waterworld_3240e_00002_2_2024-09-15_15-14-26/checkpoint_000000/\"\n",
    "\n",
    "### 6 Agent\n",
    "\n",
    "\n",
    "+------------------------------------+------------+-----------------------+--------+------------------+--------+-------------------+\n",
    "| Trial name                         | status     | loc                   |   iter |   total time (s) |     ts |   combined return |\n",
    "|------------------------------------+------------+-----------------------+--------+------------------+--------+-------------------|\n",
    "| PPO_6_agent_waterworld_8b3a9_00000 | TERMINATED | 10.42.142.216:917051  |    200 |          11845.8 | 800000 |          205.491  |\n",
    "| PPO_6_agent_waterworld_8b3a9_00001 | TERMINATED | 10.42.142.216:917053  |    200 |          10263.5 | 800000 |          159.091  |\n",
    "| PPO_6_agent_waterworld_8b3a9_00002 | TERMINATED | 10.42.142.216:967035  |    200 |          11605.7 | 800000 |          163.345  |\n",
    "| PPO_6_agent_waterworld_8b3a9_00003 | TERMINATED | 10.42.142.216:977155  |    200 |          11724.3 | 800000 |          110.968  |\n",
    "| PPO_6_agent_waterworld_8b3a9_00004 | TERMINATED | 10.42.142.216:1015550 |    200 |          11762.5 | 800000 |          168.311  |\n",
    "| PPO_6_agent_waterworld_8b3a9_00005 | TERMINATED | 10.42.142.216:1026186 |    200 |          11900.5 | 800000 |          144.467  |\n",
    "| PPO_6_agent_waterworld_8b3a9_00006 | TERMINATED | 10.42.142.216:1068748 |    200 |          11487.6 | 800000 |           70.6689 |\n",
    "| PPO_6_agent_waterworld_8b3a9_00007 | TERMINATED | 10.42.142.216:1080386 |    200 |          11493.5 | 800000 |          145.693  |\n",
    "| PPO_6_agent_waterworld_8b3a9_00008 | TERMINATED | 10.42.142.216:1118965 |    200 |          11558.4 | 800000 |          123.964  |\n",
    "| PPO_6_agent_waterworld_8b3a9_00009 | TERMINATED | 10.42.142.216:1130659 |    200 |          11519   | 800000 |           87.7496 |\n",
    "+------------------------------------+------------+-----------------------+--------+------------------+--------+-------------------+\n",
    "\n",
    "Super:\n",
    "\"/root/ray_results/PPO_2024-09-21_01-12-17/PPO_6_agent_waterworld_8b3a9_00000_0_2024-09-21_01-12-17/checkpoint_000000/\"\n",
    "\n",
    "### 7 Agent\n",
    "/root/ray_results/PPO_2024-09-09_17-08-56\n",
    "\n",
    "9   |   72.82384\n",
    "8   |   63.39039\n",
    "7   |   88.09865\n",
    "6   |   109.53974\n",
    "5   |   28.09716\n",
    "4   |   81.51447\n",
    "3   |   97.09493\n",
    "2   |   44.62085\n",
    "1   |   139.38001\n",
    "0   |   77.54385\n",
    "\n",
    "Super:\n",
    "\"/root/ray_results/PPO_2024-09-09_17-08-56/PPO_7_agent_waterworld_32d6a_00001_1_2024-09-09_17-08-56/checkpoint_000000/\"\n",
    "\n",
    "### 8 Agent\n",
    "/root/ray_results/PPO_2024-09-07_20-40-23\n",
    "\n",
    "9   | 50.31665\n",
    "8   | 41.28843\n",
    "7   | 93.01423\n",
    "6   | 65.59638\n",
    "5   | 151.39714\n",
    "4   | 70.55166\n",
    "3   | 66.52276\n",
    "2   | 35.59647\n",
    "1   | 142.84205\n",
    "0   | -4.33897\n",
    "\n",
    "Super:\n",
    "\"/root/ray_results/PPO_2024-09-07_20-40-23/PPO_8_agent_waterworld_67d04_00005_5_2024-09-07_20-40-23/checkpoint_000000/\""
   ]
  },
  {
   "cell_type": "code",
   "execution_count": null,
   "metadata": {
    "vscode": {
     "languageId": "shellscript"
    }
   },
   "outputs": [],
   "source": [
    "python test.py --mode=\"eval\" --wandb-key=913528a8e92bf601b6eb055a459bcc89130c7f5f --num-samples=10 \\\n",
    "--path=\"/root/ray_results/PPO_2024-09-09_13-44-18/PPO_2_agent_waterworld_9c7f4_00004_4_2024-09-09_13-44-18/checkpoint_000000/\" \\\n"
   ]
  },
  {
   "cell_type": "markdown",
   "metadata": {},
   "source": [
    "New Set of commands"
   ]
  },
  {
   "cell_type": "code",
   "execution_count": null,
   "metadata": {},
   "outputs": [],
   "source": [
    "tmux new-session -d 'python train.py --checkpoint-at-end --num-env-runners=30 --num-agents=4'"
   ]
  },
  {
   "cell_type": "code",
   "execution_count": null,
   "metadata": {
    "vscode": {
     "languageId": "shellscript"
    }
   },
   "outputs": [],
   "source": [
    "python eval.py --wandb-project=delete_me --wandb-key=913528a8e92bf601b6eb055a459bcc89130c7f5f \\\n",
    "--path='/root/test/waterworld/PPO/4_agent/-334.6029547490496'"
   ]
  },
  {
   "cell_type": "code",
   "execution_count": null,
   "metadata": {
    "vscode": {
     "languageId": "shellscript"
    }
   },
   "outputs": [],
   "source": [
    "python retrain.py --num-env-runners=30 --path='/root/test/waterworld/PPO/4_agent/-334.6029547490496' --num-agents=3"
   ]
  }
 ],
 "metadata": {
  "kernelspec": {
   "display_name": "base",
   "language": "python",
   "name": "python3"
  },
  "language_info": {
   "codemirror_mode": {
    "name": "ipython",
    "version": 3
   },
   "file_extension": ".py",
   "mimetype": "text/x-python",
   "name": "python",
   "nbconvert_exporter": "python",
   "pygments_lexer": "ipython3",
   "version": "3.11.5"
  }
 },
 "nbformat": 4,
 "nbformat_minor": 2
}
